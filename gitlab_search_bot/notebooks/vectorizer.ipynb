{
 "cells": [
  {
   "cell_type": "code",
   "execution_count": 1,
   "metadata": {},
   "outputs": [
    {
     "name": "stderr",
     "output_type": "stream",
     "text": [
      "/Users/dcast/Documents/GitHub/gitlab-search-bot/.venv/lib/python3.10/site-packages/tqdm/auto.py:21: TqdmWarning: IProgress not found. Please update jupyter and ipywidgets. See https://ipywidgets.readthedocs.io/en/stable/user_install.html\n",
      "  from .autonotebook import tqdm as notebook_tqdm\n"
     ]
    }
   ],
   "source": [
    "import sys\n",
    "\n",
    "sys.path.append(\"../\")\n",
    "\n",
    "import cohere\n",
    "import json\n",
    "\n",
    "import numpy as np\n",
    "\n",
    "from functools import cache\n",
    "from pathlib import Path\n",
    "from config import Paths, CohereConfig \n",
    "\n",
    "from sklearn.metrics.pairwise import cosine_similarity\n",
    "\n",
    "from sentence_transformers import CrossEncoder"
   ]
  },
  {
   "cell_type": "code",
   "execution_count": 2,
   "metadata": {},
   "outputs": [],
   "source": [
    "handbook_merged = Path(f\"{Paths.data}/handbook_merged\")\n",
    "full_filename = f\"{handbook_merged}/handbook.json\"\n",
    "\n",
    "with open(full_filename, \"r\") as f:\n",
    "    output_merged = json.load(f)"
   ]
  },
  {
   "cell_type": "code",
   "execution_count": 3,
   "metadata": {},
   "outputs": [],
   "source": [
    "co = cohere.Client(CohereConfig.api_key)\n",
    "\n",
    "@cache\n",
    "def get_embeddings(batch: tuple):\n",
    "    response = co.embed(\n",
    "        texts=batch,\n",
    "    ) \n",
    "    return response.embeddings "
   ]
  },
  {
   "cell_type": "code",
   "execution_count": 4,
   "metadata": {},
   "outputs": [
    {
     "name": "stdout",
     "output_type": "stream",
     "text": [
      " 0.00%\n",
      " 1.83%\n",
      " 3.66%\n",
      " 5.49%\n",
      " 7.33%\n",
      " 9.16%\n",
      " 10.99%\n",
      " 12.82%\n",
      " 14.65%\n",
      " 16.48%\n",
      " 18.32%\n",
      " 20.15%\n",
      " 21.98%\n",
      " 23.81%\n",
      " 25.64%\n",
      " 27.47%\n",
      " 29.30%\n",
      " 31.14%\n",
      " 32.97%\n",
      " 34.80%\n",
      " 36.63%\n",
      " 38.46%\n",
      " 40.29%\n",
      " 42.12%\n",
      " 43.96%\n",
      " 45.79%\n",
      " 47.62%\n",
      " 49.45%\n",
      " 51.28%\n",
      " 53.11%\n",
      " 54.95%\n",
      " 56.78%\n",
      " 58.61%\n",
      " 60.44%\n",
      " 62.27%\n",
      " 64.10%\n",
      " 65.93%\n",
      " 67.77%\n",
      " 69.60%\n",
      " 71.43%\n",
      " 73.26%\n",
      " 75.09%\n",
      " 76.92%\n",
      " 78.75%\n",
      " 80.59%\n",
      " 82.42%\n",
      " 84.25%\n",
      " 86.08%\n",
      " 87.91%\n",
      " 89.74%\n",
      " 91.58%\n",
      " 93.41%\n",
      " 95.24%\n",
      " 97.07%\n",
      " 98.90%\n"
     ]
    }
   ],
   "source": [
    "vectors = []\n",
    "vector_ids = []\n",
    "\n",
    "batch_size = 96 \n",
    "batch = []\n",
    "batch_ids = []\n",
    "\n",
    "for i, elem in enumerate(output_merged):\n",
    "    if i % 500 == 0:\n",
    "        print(f\"{i/len(output_merged) * 100: .2f}%\")\n",
    "\n",
    "    if len(elem[\"text\"]) > 5:\n",
    "        batch_ids.append(i)\n",
    "        batch.append(elem[\"text\"])\n",
    "\n",
    "    if len(batch) >= batch_size:\n",
    "        vectors.append(get_embeddings(tuple(batch)))\n",
    "        vector_ids.append(batch_ids)\n",
    "        batch = []\n",
    "        batch_ids = []\n",
    "\n",
    "if len(batch) > 0:\n",
    "    vectors.append(get_embeddings(tuple(batch)))\n",
    "    vector_ids.append(batch_ids)\n",
    "    batch = []\n",
    "    batch_ids = []"
   ]
  },
  {
   "cell_type": "code",
   "execution_count": 6,
   "metadata": {},
   "outputs": [],
   "source": [
    "flatten_vectors_ids = [item for sublist in vector_ids for item in sublist]\n",
    "flatten_vectors = [item for sublist in vectors for item in sublist] \n",
    "\n",
    "assert len(flatten_vectors) == len(flatten_vectors_ids)\n",
    "assert vector_ids[0][0] == flatten_vectors_ids[0]\n",
    "assert vector_ids[-1][-1] == flatten_vectors_ids[-1]\n",
    "# assert (vectors[0][0] == flatten_vectors[0]).all()\n",
    "# assert (vectors[-1][-1] == flatten_vectors[-1]).all()"
   ]
  },
  {
   "cell_type": "code",
   "execution_count": 7,
   "metadata": {},
   "outputs": [
    {
     "data": {
      "text/plain": [
       "(26384, 26384)"
      ]
     },
     "execution_count": 7,
     "metadata": {},
     "output_type": "execute_result"
    }
   ],
   "source": [
    "len(flatten_vectors_ids), len(flatten_vectors)"
   ]
  },
  {
   "cell_type": "code",
   "execution_count": 8,
   "metadata": {},
   "outputs": [],
   "source": [
    "output_with_embeddings = output_merged.copy()\n",
    "\n",
    "for i, vec in zip(flatten_vectors_ids, flatten_vectors):\n",
    "    output_with_embeddings[i][\"vector\"] = vec\n",
    "\n",
    "output_with_embeddings = [elem for elem in output_with_embeddings if \"vector\" in elem]\n",
    "\n",
    "assert (\n",
    "    cosine_similarity(\n",
    "        [get_embeddings(tuple([output_merged[0][\"text\"]]))[0]],\n",
    "        [output_with_embeddings[0][\"vector\"]],\n",
    "    )[0][0]\n",
    "    > 0.99999\n",
    ")"
   ]
  },
  {
   "cell_type": "code",
   "execution_count": 9,
   "metadata": {},
   "outputs": [],
   "source": [
    "handbook_merged = Path(f\"{Paths.data}/handbook_merged\")\n",
    "full_filename = f\"{handbook_merged}/handbook_with_embeddings.json\"\n",
    "\n",
    "with open(full_filename, \"w\") as fw:\n",
    "    json.dump(output_with_embeddings, fw)"
   ]
  },
  {
   "cell_type": "code",
   "execution_count": null,
   "metadata": {},
   "outputs": [],
   "source": [
    "query_text = \"How many vacation days do I get?\"\n",
    "embedding = get_embeddings((query_text,))[0] \n",
    "\n",
    "scores = cosine_similarity([embedding], flatten_vectors)[0] \n",
    "top_scores_ids = np.argsort(scores)[-30:][::-1]"
   ]
  },
  {
   "cell_type": "code",
   "execution_count": null,
   "metadata": {},
   "outputs": [],
   "source": [
    "model_ce = CrossEncoder(\"cross-encoder/ms-marco-TinyBERT-L-2-v2\", device=\"mps\")\n",
    "corpus = [(output_with_embeddings[i][\"text\"], output_with_embeddings[i][\"title\"]) for i in top_scores_ids]\n",
    "sentence_combinations = [[query_text, text] for text, title in corpus]\n",
    "\n",
    "similarity_scores = model_ce.predict(sentence_combinations)\n",
    "sim_scores_argsort = reversed(np.argsort(similarity_scores))"
   ]
  },
  {
   "cell_type": "code",
   "execution_count": null,
   "metadata": {},
   "outputs": [
    {
     "name": "stdout",
     "output_type": "stream",
     "text": [
      "1. \"GitLab LTD (UK) Benefits\" (5.58)\n",
      "Statutory Vacation Leave\n",
      "Team members are entitled to at least 28 vacation days which consist of 20 days of standard annual leave plus 8 public holidays. These days will accrue from the team member’s start date.\n",
      "\n",
      "Entitlement to vacation leave is pro rata for any part-time team members based on hours worked.\n",
      "It is important for UK team members to utilize time off for public holidays as the total amount of annual leave is accrued here inclusive of public holidays.\n",
      "Team members must designate any vacation time taken as Vacation in PTO by Deel to ensure that vacation entitlement is properly tracked.\n",
      "Under normal circumstances, there is no carryover for unused vacation days, with exceptions where a team member cannot take annual leave due to sickness or maternity leave; however, given the situation surrounding COVID-19, the UK government has relaxed measures on the carry over of annual leave for the following two calendar years: 2020-2021 and 2021-2022.\n",
      "2. \"Paid time off at GitLab\" (5.49)\n",
      "GitLab GmbH (Germany)\n",
      "Team members are entitled to at least 20 vacation days. The days will accrue from the start date. In general, team members must take their annual vacation days during the calendar year, otherwise it is forfeited. However, unused vacation days can be carried forward until the 31st of March of the next calendar year if the employee was unable to take the holiday due to operational or personal reasons.\n",
      "3. \"Paid time off at GitLab\" (5.13)\n",
      "GitLab LTD (UK)\n",
      "Team members are entitled to at least 28 vacation days, this is broken down by 20 days standard annual leave plus 8 public holidays. These days will accrue from the start date. It is important for UK team members to utilise time off for public holidays as the total amount of annual leave is accrued here inclusive of public holidays. Under normal circumstances, there is no carryover for unused vacation days. However, given the situation surrounding COVID-19 team members may be eligible to carry over unused vacation days if team members have a COVID-related reason that prevented them from being able to utilize vacation.  UK government announcement.\n",
      "4. \"Remote.com\" (4.94)\n",
      "Holiday Leave\n",
      "Part-time and full-time employees are entitled to 25 days of paid time off per year. Employers are required to enforce the use of their employees’ vacation time. Employees may roll over vacation days for up to five years, but employers should not let employees fail to take time off.\n",
      "5. \"Paid time off at GitLab\" (4.49)\n",
      "GitLab BV (Netherlands)\n",
      "Team members are entitled to at least 20 statutory vacation days per calendar year. The days will accrue at 1.67 days/month from the team members start date. Any unused statutory vacation days will be carried into the next calendar year, but expire on July 1st. Should the team member leave GitLab within the calendar year, an entitlement to a pro rata portion of vacation days exists.\n"
     ]
    }
   ],
   "source": [
    "for i, idx in enumerate(sim_scores_argsort, start=1):\n",
    "    text, title = corpus[idx]\n",
    "    print(f\"{i}. {title} ({similarity_scores[idx]:.2f})\")\n",
    "    print(f\"{text}\")\n",
    "    if i > 4:\n",
    "        break"
   ]
  }
 ],
 "metadata": {
  "kernelspec": {
   "display_name": ".venv",
   "language": "python",
   "name": "python3"
  },
  "language_info": {
   "codemirror_mode": {
    "name": "ipython",
    "version": 3
   },
   "file_extension": ".py",
   "mimetype": "text/x-python",
   "name": "python",
   "nbconvert_exporter": "python",
   "pygments_lexer": "ipython3",
   "version": "3.10.4"
  },
  "orig_nbformat": 4
 },
 "nbformat": 4,
 "nbformat_minor": 2
}
