{
 "cells": [
  {
   "cell_type": "code",
   "execution_count": 9,
   "metadata": {},
   "outputs": [],
   "source": [
    "import sys\n",
    "\n",
    "sys.path.append(\"../\")\n",
    "\n",
    "import json\n",
    "\n",
    "import numpy as np\n",
    "\n",
    "from qdrant_client import QdrantClient\n",
    "from qdrant_client.http import models\n",
    "\n",
    "from config import CohereConfig, QdrantConfig, Paths"
   ]
  },
  {
   "cell_type": "code",
   "execution_count": 10,
   "metadata": {},
   "outputs": [],
   "source": [
    "data_path = Paths.data / \"handbook_merged\" / \"handbook_with_embeddings.json\"\n",
    "\n",
    "with open(data_path, \"r\") as f:\n",
    "    data = json.load(f)"
   ]
  },
  {
   "cell_type": "code",
   "execution_count": 11,
   "metadata": {},
   "outputs": [],
   "source": [
    "client = QdrantClient(\n",
    "    host=QdrantConfig.host, api_key=QdrantConfig.api_key, port=QdrantConfig.port\n",
    ")"
   ]
  },
  {
   "cell_type": "code",
   "execution_count": 16,
   "metadata": {},
   "outputs": [
    {
     "name": "stdout",
     "output_type": "stream",
     "text": [
      "{'time': 1.9264e-05, 'status': 'ok', 'result': {'status': <CollectionStatus.GREEN: 'green'>, 'optimizer_status': <OptimizersStatusOneOf.OK: 'ok'>, 'vectors_count': 0, 'indexed_vectors_count': 0, 'points_count': 0, 'segments_count': 2, 'config': {'params': {'vectors': {'size': 4096, 'distance': <Distance.COSINE: 'Cosine'>}, 'shard_number': 1, 'replication_factor': 1, 'write_consistency_factor': 1, 'on_disk_payload': True}, 'hnsw_config': {'m': 16, 'ef_construct': 100, 'full_scan_threshold': 10000, 'max_indexing_threads': 0, 'on_disk': False, 'payload_m': None}, 'optimizer_config': {'deleted_threshold': 0.2, 'vacuum_min_vector_number': 1000, 'default_segment_number': 0, 'max_segment_size': None, 'memmap_threshold': None, 'indexing_threshold': 20000, 'flush_interval_sec': 5, 'max_optimization_threads': 1}, 'wal_config': {'wal_capacity_mb': 32, 'wal_segments_ahead': 0}}, 'payload_schema': {}}}\n"
     ]
    }
   ],
   "source": [
    "client.recreate_collection(\n",
    "    collection_name=QdrantConfig.collection_name, \n",
    "    vectors_config=models.VectorParams(size=CohereConfig.vector_size, distance=models.Distance.COSINE),\n",
    ")\n",
    "\n",
    "my_collection_info = client.http.collections_api.get_collection(QdrantConfig.collection_name)\n",
    "print(my_collection_info.dict())"
   ]
  },
  {
   "cell_type": "code",
   "execution_count": 17,
   "metadata": {},
   "outputs": [],
   "source": [
    "limit = len(data) + 1\n",
    "ids = [i for i in range(len(data))][:limit]\n",
    "docs = [{k: v for k, v in row.items() if k not in (\"vector\", \"elements\")} for row in data][:limit]\n",
    "vectors = [np.array(d[\"vector\"]) for d in data][:limit]"
   ]
  },
  {
   "cell_type": "code",
   "execution_count": 19,
   "metadata": {},
   "outputs": [
    {
     "name": "stdout",
     "output_type": "stream",
     "text": [
      "Inserting batch 18500 to 19000 of 26384\n",
      "Inserting batch 19000 to 19500 of 26384\n",
      "Inserting batch 19500 to 20000 of 26384\n",
      "Inserting batch 20000 to 20500 of 26384\n",
      "Inserting batch 20500 to 21000 of 26384\n",
      "Inserting batch 21000 to 21500 of 26384\n",
      "Inserting batch 21500 to 22000 of 26384\n",
      "Inserting batch 22000 to 22500 of 26384\n",
      "Inserting batch 22500 to 23000 of 26384\n",
      "Inserting batch 23000 to 23500 of 26384\n",
      "Inserting batch 23500 to 24000 of 26384\n",
      "Inserting batch 24000 to 24500 of 26384\n",
      "Inserting batch 24500 to 25000 of 26384\n",
      "Inserting batch 25000 to 25500 of 26384\n",
      "Inserting batch 25500 to 26000 of 26384\n",
      "Inserting batch 26000 to 26500 of 26384\n"
     ]
    }
   ],
   "source": [
    "# insert data in batches of 500\n",
    "for i in range(18500, len(ids), 500):\n",
    "    print(f\"Inserting batch {i} to {i + 500} of {len(ids)}\")\n",
    "    client.upsert(\n",
    "        collection_name=QdrantConfig.collection_name,\n",
    "        points=models.Batch(\n",
    "            ids=ids[i : i + 500],\n",
    "            payloads=docs[i : i + 500],\n",
    "            vectors=[v.tolist() for v in vectors[i : i + 500]],\n",
    "        ),\n",
    "    )"
   ]
  }
 ],
 "metadata": {
  "kernelspec": {
   "display_name": ".venv",
   "language": "python",
   "name": "python3"
  },
  "language_info": {
   "codemirror_mode": {
    "name": "ipython",
    "version": 3
   },
   "file_extension": ".py",
   "mimetype": "text/x-python",
   "name": "python",
   "nbconvert_exporter": "python",
   "pygments_lexer": "ipython3",
   "version": "3.10.4"
  },
  "orig_nbformat": 4
 },
 "nbformat": 4,
 "nbformat_minor": 2
}
